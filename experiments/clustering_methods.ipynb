{
 "cells": [
  {
   "metadata": {},
   "cell_type": "markdown",
   "source": [
    "# Experiment: Clustering Method\n",
    "\n",
    "This shows that Leiden suited for clustering scRNA-seq data, while clustering with Kmeans of scRNAseq data fails due to a high amount of outliers, which lead to many single sample clusters.\n",
    "Further, we seee that normalization and log1p transformation is needed to find clusters at all. (BTW, KMedoids or DBSCAN does not work entirely as clustering method)\n",
    "\n",
    "For this, we use a subsample ($n=1000$) of breast cancer scRNAseq from Wu et al. 2021."
   ],
   "id": "420b10c9f62aa61a"
  },
  {
   "metadata": {
    "collapsed": true,
    "ExecuteTime": {
     "end_time": "2024-11-13T14:08:20.550876Z",
     "start_time": "2024-11-13T14:08:17.526579Z"
    }
   },
   "cell_type": "code",
   "source": [
    "from beartype.vale import IsInstance\n",
    "\n",
    "import pyprism\n",
    "from pathlib import Path\n",
    "import scanpy as sc\n",
    "import numpy as np\n",
    "import anndata as ad\n",
    "from anndata import AnnData\n",
    "from numpy import float32, float64, array, repeat\n",
    "from sklearn.cluster import KMeans\n",
    "from sklearn_extra.cluster import KMedoids\n",
    "import matplotlib.pyplot as plt"
   ],
   "id": "initial_id",
   "outputs": [],
   "execution_count": 2
  },
  {
   "metadata": {},
   "cell_type": "code",
   "source": [
    "def kmeans_sucks():\n",
    "    def preprocessing_pipeline(subsample: int | None = None) -> ad.AnnData:\n",
    "        \n",
    "        store = pyprism.store.Store(path=Path(\"../store\"))\n",
    "        adata = pyprism.datasets.WuEtAl2021(store=store).get(\"GSM5354522\")\n",
    "        adata = adata[~adata.obs_names.duplicated()].copy()\n",
    "        \n",
    "        if subsample is not None:\n",
    "            adata = pyprism.utils.sample_adata(adata, subsample)\n",
    "        \n",
    "        return adata\n",
    "    \n",
    "    adata = preprocessing_pipeline(subsample = 1000)\n",
    "    adata_normalized = sc.pp.normalize_total(adata, copy=True)\n",
    "    adata_log = sc.pp.log1p(adata_normalized, copy=True)\n",
    "    \n",
    "    def calc_kmeans_centroids(adata: AnnData, n_clusters: int) -> AnnData:\n",
    "        \"\"\"\n",
    "        WARNING: Potentially not fully deterministic!!!\n",
    "        Tried to make it deterministic by going to 64 bit floats as with 32 bits one get random deviations of one or two eps (i.e. machine precisions).\n",
    "        \"\"\"\n",
    "        adata.X = adata.X.astype(dtype=float64)\n",
    "        estimator = KMeans(n_clusters=n_clusters, init=\"k-means++\", random_state=0, n_init=1)\n",
    "        # estimator = KMedoids(n_clusters=n_clusters, init=\"k-medoids++\", random_state=0)\n",
    "        prediction = estimator.fit_predict(adata.X)\n",
    "        cluster_centers = array(estimator.cluster_centers_, dtype=float32)\n",
    "        cluster_centers = AnnData(cluster_centers)\n",
    "        cluster_centers.var_names = adata.var_names\n",
    "        cluster_centers.obs_names = [\"cluster_{}\".format(i) for i in range(n_clusters)]\n",
    "        cluster_centers.obs[\"cluster_method\"] = repeat(\"kmedoids\", cluster_centers.n_obs)\n",
    "        return cluster_centers, prediction\n",
    "\n",
    "    cell_centroids_log, cluster_indicies = calc_kmeans_centroids(adata_log, n_clusters=10)\n",
    "    \n",
    "    def plot_umap_with_cluster_centroids(adata, cluster_centroids, zero_center_in_pca: bool = False, n_comps_in_pca: int = 50):\n",
    "        \n",
    "        adata.obs[\"cluster_method\"] = None\n",
    "        cluster_centroids.obs[\"cluster_indicies\"] = cluster_centroids.n_obs\n",
    "        adata = ad.concat([adata, cluster_centroids], axis=0, join=\"outer\")\n",
    "    \n",
    "        sc.pp.pca(adata, n_comps=n_comps_in_pca, zero_center=zero_center_in_pca, svd_solver=\"arpack\", copy=False, mask_var=None, chunked=True, random_state=0)\n",
    "        sc.pp.neighbors(adata, random_state=0)\n",
    "        sc.tl.umap(adata, random_state=0)\n",
    "        sc.tl.leiden(adata, flavor=\"igraph\", n_iterations=-1, resolution=1.0, random_state=0)\n",
    "        \n",
    "        adata.obs[\"leiden+cluster_method\"] = [cluster_method if cluster_method is not None else leiden for leiden, cluster_method in zip(adata.obs[\"leiden\"], adata.obs[\"cluster_method\"])]\n",
    "        \n",
    "        adata.obs[\"cluster_indicies\"] = adata.obs[\"cluster_indicies\"].astype(str)\n",
    "        \n",
    "        sc.pl.umap(\n",
    "            adata,\n",
    "            color=[\"cluster_method\", \"leiden\", \"leiden+cluster_method\", \"celltype_major\", \"cluster_indicies\"],\n",
    "            # Setting a smaller point size to get prevent overlap\n",
    "            size=50,\n",
    "            ncols=3\n",
    "        )\n",
    "    \n",
    "    adata_log.obs[\"cluster_indicies\"] = cluster_indicies\n",
    "    plot_umap_with_cluster_centroids(adata_log, cell_centroids_log)\n",
    "    \n",
    "    print(np.unique(cluster_indicies, return_counts=True))\n",
    "\n",
    "kmeans_sucks()"
   ],
   "id": "46957b7824b0dab4",
   "outputs": [],
   "execution_count": null
  },
  {
   "metadata": {},
   "cell_type": "markdown",
   "source": [
    "Here, we see that most clusters are actually single sample clusters.\n",
    "\n",
    "So, let's try leiden instead!"
   ],
   "id": "c28dee417373d9b2"
  },
  {
   "metadata": {},
   "cell_type": "code",
   "source": [
    "def leiden_is_better():\n",
    "    def preprocessing_pipeline(subsample: int | None = None) -> ad.AnnData:\n",
    "        \n",
    "        store = pyprism.store.Store(path=Path(\"../store\"))\n",
    "        adata = pyprism.datasets.WuEtAl2021(store=store).get(\"GSM5354522\")\n",
    "        adata = adata[~adata.obs_names.duplicated()].copy()\n",
    "        \n",
    "        if subsample is not None:\n",
    "            adata = pyprism.utils.sample_adata(adata, subsample)\n",
    "        \n",
    "        return adata\n",
    "    \n",
    "    adata = preprocessing_pipeline(subsample = 1000)\n",
    "    adata_normalized = sc.pp.normalize_total(adata, copy=True)\n",
    "    adata_log = sc.pp.log1p(adata_normalized, copy=True)\n",
    "    \n",
    "    def calc_leiden_centroids(adata: AnnData, n_comps_in_pca: int = 100, resolution: float = 5.0, random_state: int = 0) -> AnnData:\n",
    "        \"\"\"\n",
    "        WARNING: Potentially not fully deterministic!!!\n",
    "        Tried to make it deterministic by going to 64 bit floats as with 32 bits one get random deviations of one or two eps (i.e. machine precisions).\n",
    "        \"\"\"\n",
    "        adata.X = adata.X.astype(dtype=float64)\n",
    "        \n",
    "        sc.pp.pca(adata, n_comps=n_comps_in_pca, zero_center=False, svd_solver=\"arpack\", copy=False, mask_var=None, chunked=True, random_state=random_state)\n",
    "        sc.pp.neighbors(adata, random_state=random_state)\n",
    "        sc.tl.leiden(adata, flavor=\"igraph\", n_iterations=-1, resolution=resolution, random_state=random_state)\n",
    "        \n",
    "        cluster_idicies = np.unique(adata.obs[\"leiden\"].to_numpy())\n",
    "        number_of_clusters = len(cluster_idicies)\n",
    "        \n",
    "        kmeans_clusters_per_leiden_cluster = 1\n",
    "        cluster_centers = np.zeros(shape=(kmeans_clusters_per_leiden_cluster*number_of_clusters, adata.n_vars))\n",
    "        for index in cluster_idicies:\n",
    "            index = int(index)\n",
    "            estimator = KMeans(n_clusters=kmeans_clusters_per_leiden_cluster, init=\"k-means++\", random_state=0, n_init=1)\n",
    "            _ = estimator.fit_predict(adata[adata.obs[\"leiden\"]==str(index)].X)\n",
    "            cluster_centers[kmeans_clusters_per_leiden_cluster*index:kmeans_clusters_per_leiden_cluster*(index+1), :] = array(estimator.cluster_centers_, dtype=float32)\n",
    "        \n",
    "        cluster_centers = AnnData(cluster_centers)\n",
    "        cluster_centers.var_names = adata.var_names\n",
    "        cluster_centers.obs_names = [\"centroid_kmeans-{}_leiden-{}\".format(i, j) for j in range(number_of_clusters) for i in range(kmeans_clusters_per_leiden_cluster)]\n",
    "        cluster_centers.obs[\"cluster_method\"] = repeat(\"kmedoids\", cluster_centers.n_obs)\n",
    "        return cluster_centers\n",
    "    \n",
    "    cell_centroids_log = calc_leiden_centroids(adata_log)\n",
    "\n",
    "    def plot_umap_with_cluster_centroids(adata, cluster_centroids, zero_center_in_pca: bool = False,\n",
    "                                         n_comps_in_pca: int = 50):\n",
    "    \n",
    "        adata.obs[\"cluster_method\"] = None\n",
    "        cluster_centroids.obs[\"cluster_indicies\"] = cluster_centroids.n_obs\n",
    "        adata = ad.concat([adata, cluster_centroids], axis=0, join=\"outer\")\n",
    "    \n",
    "        sc.pp.pca(adata, n_comps=n_comps_in_pca, zero_center=zero_center_in_pca, svd_solver=\"arpack\", copy=False,\n",
    "                  mask_var=None, chunked=True, random_state=0)\n",
    "        sc.pp.neighbors(adata, random_state=0)\n",
    "        sc.tl.umap(adata, random_state=0)\n",
    "        #sc.tl.leiden(adata, flavor=\"igraph\", n_iterations=-1, resolution=1.0, random_state=0)\n",
    "    \n",
    "        sc.pl.umap(\n",
    "            adata,\n",
    "            color=[\"cluster_method\", \"celltype_major\", \"leiden\"],\n",
    "            # Setting a smaller point size to get prevent overlap\n",
    "            size=50,\n",
    "            ncols=2\n",
    "        )\n",
    "    \n",
    "    \n",
    "    plot_umap_with_cluster_centroids(adata_log, cell_centroids_log)\n",
    "    \n",
    "    cluster_stats = np.unique(adata_log.obs[\"leiden\"], return_counts=True)\n",
    "    print(cluster_stats)\n",
    "    plt.figure(figsize=(10, 4))\n",
    "    plt.hist(cluster_stats[1], bins=len(cluster_stats[0]))\n",
    "    plt.show()\n",
    "    \n",
    "leiden_is_better()"
   ],
   "id": "5c06a34434927bee",
   "outputs": [],
   "execution_count": null
  },
  {
   "metadata": {},
   "cell_type": "markdown",
   "source": "Let's try kmeans after outlier detection",
   "id": "5fa77a47fd2e66bf"
  },
  {
   "metadata": {
    "ExecuteTime": {
     "end_time": "2024-11-13T14:09:28.574765Z",
     "start_time": "2024-11-13T14:09:28.118302Z"
    }
   },
   "cell_type": "code",
   "source": [
    "def preprocessing_pipeline(subsample: int | None = None) -> ad.AnnData:\n",
    "    \n",
    "    store = pyprism.store.Store(path=Path(\"../store\"))\n",
    "    adata = pyprism.datasets.WuEtAl2021(store=store).get(\"GSM5354522\")\n",
    "    adata = adata[~adata.obs_names.duplicated()].copy()\n",
    "    \n",
    "    if subsample is not None:\n",
    "        adata = pyprism.utils.sample_adata(adata, subsample)\n",
    "    \n",
    "    return adata\n",
    "\n",
    "adata = preprocessing_pipeline(subsample = 1000)\n",
    "adata_normalized = sc.pp.normalize_total(adata, copy=True)\n",
    "adata_log = sc.pp.log1p(adata_normalized, copy=True)"
   ],
   "id": "fa4e5b191cf4c2a2",
   "outputs": [],
   "execution_count": 5
  },
  {
   "metadata": {
    "ExecuteTime": {
     "end_time": "2024-11-13T14:09:31.223589Z",
     "start_time": "2024-11-13T14:09:31.219337Z"
    }
   },
   "cell_type": "code",
   "source": "adata",
   "id": "3f0bcb502bbc7557",
   "outputs": [
    {
     "data": {
      "text/plain": [
       "AnnData object with n_obs × n_vars = 1000 × 29733\n",
       "    obs: 'orig.ident', 'nCount_RNA', 'nFeature_RNA', 'percent.mito', 'subtype', 'celltype_subset', 'celltype_minor', 'celltype_major'\n",
       "    uns: 'gsm_metadata'"
      ]
     },
     "execution_count": 6,
     "metadata": {},
     "output_type": "execute_result"
    }
   ],
   "execution_count": 6
  },
  {
   "metadata": {
    "ExecuteTime": {
     "end_time": "2024-11-13T14:37:34.567471Z",
     "start_time": "2024-11-13T14:37:34.564747Z"
    }
   },
   "cell_type": "code",
   "source": "from sklearn.neighbors import LocalOutlierFactor",
   "id": "fbaf5da9d38f5ad9",
   "outputs": [],
   "execution_count": 23
  },
  {
   "metadata": {
    "ExecuteTime": {
     "end_time": "2024-11-13T14:42:37.680817Z",
     "start_time": "2024-11-13T14:42:37.103949Z"
    }
   },
   "cell_type": "code",
   "source": [
    "clf = LocalOutlierFactor(n_neighbors=20)\n",
    "clf.fit_predict(adata.X)\n",
    "plt.figure(figsize=(8,2))\n",
    "plt.hist(clf.negative_outlier_factor_, bins=30)\n",
    "plt.yscale(\"log\")\n",
    "plt.show()"
   ],
   "id": "dff7166970f9988c",
   "outputs": [
    {
     "data": {
      "text/plain": [
       "<Figure size 800x200 with 1 Axes>"
      ],
      "image/png": "[encoded data removed]"
     },
     "metadata": {},
     "output_type": "display_data"
    }
   ],
   "execution_count": 31
  },
  {
   "metadata": {
    "ExecuteTime": {
     "end_time": "2024-11-13T14:56:26.836333Z",
     "start_time": "2024-11-13T14:56:26.816661Z"
    }
   },
   "cell_type": "code",
   "source": [
    "bdata_log = adata_log[clf.negative_outlier_factor_ > -1.20, :].copy()\n",
    "bdata_log"
   ],
   "id": "b0595d580cb8ae16",
   "outputs": [
    {
     "data": {
      "text/plain": [
       "AnnData object with n_obs × n_vars = 578 × 29733\n",
       "    obs: 'orig.ident', 'nCount_RNA', 'nFeature_RNA', 'percent.mito', 'subtype', 'celltype_subset', 'celltype_minor', 'celltype_major'\n",
       "    uns: 'gsm_metadata', 'log1p'"
      ]
     },
     "execution_count": 66,
     "metadata": {},
     "output_type": "execute_result"
    }
   ],
   "execution_count": 66
  },
  {
   "metadata": {
    "ExecuteTime": {
     "end_time": "2024-11-13T15:00:57.056660Z",
     "start_time": "2024-11-13T15:00:56.848932Z"
    }
   },
   "cell_type": "code",
   "source": [
    "from scipy.sparse._csc import csc_matrix\n",
    "\n",
    "def calc_kmeans_centroids(adata: AnnData, n_clusters: int) -> AnnData:\n",
    "    \"\"\"\n",
    "    WARNING: Potentially not fully deterministic!!!\n",
    "    Tried to make it deterministic by going to 64 bit floats as with 32 bits one get random deviations of one or two eps (i.e. machine precisions).\n",
    "    \"\"\"\n",
    "    adata.X = adata.X.astype(dtype=float64)\n",
    "    # estimator = KMeans(n_clusters=n_clusters, init=\"k-means++\", random_state=0, n_init=1)\n",
    "    estimator = KMedoids(n_clusters=n_clusters, init=\"k-medoids++\", random_state=0)\n",
    "    prediction = estimator.fit_predict(adata.X)\n",
    "    if isinstance(estimator.cluster_centers_, csc_matrix):\n",
    "        cluster_centers = array(estimator.cluster_centers_.todense(), dtype=float32)\n",
    "    else:\n",
    "        cluster_centers = array(estimator.cluster_centers_, dtype=float32)\n",
    "    cluster_centers = AnnData(cluster_centers)\n",
    "    cluster_centers.var_names = adata.var_names\n",
    "    cluster_centers.obs_names = [\"cluster_{}\".format(i) for i in range(n_clusters)]\n",
    "    cluster_centers.obs[\"cluster_method\"] = repeat(\"kmedoids\", cluster_centers.n_obs)\n",
    "    return cluster_centers, prediction\n",
    "\n",
    "cell_centroids_log, cluster_indicies = calc_kmeans_centroids(bdata_log, n_clusters=100)\n",
    "np.unique(cluster_indicies, return_counts=True)"
   ],
   "id": "db5629d2a3a12ef0",
   "outputs": [
    {
     "data": {
      "text/plain": [
       "(array([ 0,  1,  2,  3,  4,  5,  6,  7,  8,  9, 10, 11, 12, 13, 14, 15, 16,\n",
       "        17, 18, 19, 20, 21, 22, 23, 24, 25, 26, 27, 28, 29, 30, 31, 32, 33,\n",
       "        34, 35, 36, 37, 38, 39, 40, 41, 42, 43, 44, 45, 46, 47, 48, 49, 50,\n",
       "        51, 52, 53, 54, 55, 56, 57, 58, 59, 60, 61, 62, 63, 64, 65, 66, 67,\n",
       "        68, 69, 70, 71, 72, 73, 74, 75, 76, 77, 78, 79, 80, 81, 82, 83, 84,\n",
       "        85, 86, 87, 88, 89, 90, 91, 92, 93, 94, 95, 96, 97, 98, 99]),\n",
       " array([  1,   1,   2,   1,   1,  23,   9,   1,   1,   1,   1,   3,   1,\n",
       "          1,   1,   1,   4,   3,   1,   1,   1,   1,   1,   4,   1,  37,\n",
       "          1,   1,   2,   1,   1,   1,   1,  19,   1,  51,  17,  16,   1,\n",
       "          1,   1,  24, 109,   1,   1,   1,   1,   1,   1,   1,   1,   1,\n",
       "          1,   1,   1,   1,   1,  14,   1,   1,   1,   1,   1,   1,  14,\n",
       "          1,   1,   1,   1,   1,   1,   1,   1,   1,   3,   1, 136,   1,\n",
       "          1,   1,   1,   1,   2,   1,   1,   1,   1,   1,   1,   1,   1,\n",
       "          1,   1,   1,   1,   1,   1,   7,   1,   1]))"
      ]
     },
     "execution_count": 71,
     "metadata": {},
     "output_type": "execute_result"
    }
   ],
   "execution_count": 71
  },
  {
   "metadata": {
    "ExecuteTime": {
     "end_time": "2024-11-13T15:05:52.863688Z",
     "start_time": "2024-11-13T15:05:52.859392Z"
    }
   },
   "cell_type": "code",
   "source": "adata.obsm",
   "id": "84d469fb838d281",
   "outputs": [
    {
     "data": {
      "text/plain": [
       "AxisArrays with keys: "
      ]
     },
     "execution_count": 74,
     "metadata": {},
     "output_type": "execute_result"
    }
   ],
   "execution_count": 74
  },
  {
   "metadata": {
    "ExecuteTime": {
     "end_time": "2024-11-13T14:35:17.411611Z",
     "start_time": "2024-11-13T14:35:17.408653Z"
    }
   },
   "cell_type": "code",
   "source": "np.where(cluster_indicies==0)",
   "id": "a82b1ff341fd2937",
   "outputs": [
    {
     "data": {
      "text/plain": [
       "(array([548]),)"
      ]
     },
     "execution_count": 21,
     "metadata": {},
     "output_type": "execute_result"
    }
   ],
   "execution_count": 21
  },
  {
   "metadata": {
    "ExecuteTime": {
     "end_time": "2024-11-13T14:35:43.503793Z",
     "start_time": "2024-11-13T14:35:43.499041Z"
    }
   },
   "cell_type": "code",
   "source": "adata.obs.iloc[548]",
   "id": "ec7a0a9593aa56b5",
   "outputs": [
    {
     "data": {
      "text/plain": [
       "orig.ident                   CID4067\n",
       "nCount_RNA                      1648\n",
       "nFeature_RNA                     930\n",
       "percent.mito               13.410194\n",
       "subtype                          ER+\n",
       "celltype_subset       Cancer LumB SC\n",
       "celltype_minor        Cancer LumB SC\n",
       "celltype_major     Cancer Epithelial\n",
       "Name: CID4067_TGCCCTAGTCAATGTC, dtype: object"
      ]
     },
     "execution_count": 22,
     "metadata": {},
     "output_type": "execute_result"
    }
   ],
   "execution_count": 22
  },
  {
   "metadata": {
    "ExecuteTime": {
     "end_time": "2024-11-13T14:35:43.584056Z",
     "start_time": "2024-11-13T14:35:43.582689Z"
    }
   },
   "cell_type": "code",
   "source": "",
   "id": "100f3accc5d49a09",
   "outputs": [],
   "execution_count": null
  },
  {
   "metadata": {},
   "cell_type": "code",
   "outputs": [],
   "execution_count": null,
   "source": "",
   "id": "b5780a50817ba59d"
  }
 ],
 "metadata": {
  "kernelspec": {
   "display_name": "Python 3",
   "language": "python",
   "name": "python3"
  },
  "language_info": {
   "codemirror_mode": {
    "name": "ipython",
    "version": 2
   },
   "file_extension": ".py",
   "mimetype": "text/x-python",
   "name": "python",
   "nbconvert_exporter": "python",
   "pygments_lexer": "ipython2",
   "version": "2.7.6"
  }
 },
 "nbformat": 4,
 "nbformat_minor": 5
}
