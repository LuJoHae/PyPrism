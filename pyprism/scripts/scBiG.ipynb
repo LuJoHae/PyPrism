{
 "cells": [
  {
   "cell_type": "code",
   "id": "initial_id",
   "metadata": {
    "ExecuteTime": {
     "end_time": "2024-10-03T12:04:56.283150Z",
     "start_time": "2024-10-03T12:04:54.071664Z"
    }
   },
   "source": [
    "import anndata as ad\n",
    "import scanpy as sc\n",
    "import numpy as np\n",
    "import pyprism\n",
    "import scBiG"
   ],
   "outputs": [],
   "execution_count": 1
  },
  {
   "cell_type": "code",
   "id": "dba31f4f552246ce",
   "metadata": {
    "ExecuteTime": {
     "end_time": "2024-10-03T12:05:08.538290Z",
     "start_time": "2024-10-03T12:04:58.077349Z"
    }
   },
   "source": [
    "_adata = pyprism.datasets.get_dataset(\"breast_cancer_single_cell\")\n",
    "_adata = pyprism.utils.sample_adata(_adata, n=1000, seed=0)\n",
    "print(_adata)"
   ],
   "outputs": [
    {
     "name": "stderr",
     "output_type": "stream",
     "text": [
      "INFO:root:Getting dataset: breast_cancer_single_cell\n",
      "INFO:root:adata already there and hash matched\n"
     ]
    },
    {
     "name": "stdout",
     "output_type": "stream",
     "text": [
      "AnnData object with n_obs × n_vars = 1000 × 29733\n",
      "    obs: 'orig.ident', 'nCount_RNA', 'nFeature_RNA', 'percent.mito', 'subtype', 'celltype_subset', 'celltype_minor', 'celltype_major'\n"
     ]
    },
    {
     "name": "stderr",
     "output_type": "stream",
     "text": [
      "/Users/halu/Projects/PhD/PyPrism/venv/lib/python3.12/site-packages/anndata/_core/anndata.py:1818: UserWarning: Observation names are not unique. To make them unique, call `.obs_names_make_unique`.\n",
      "  utils.warn_names_duplicates(\"obs\")\n"
     ]
    }
   ],
   "execution_count": 2
  },
  {
   "cell_type": "code",
   "id": "742afda468304d33",
   "metadata": {
    "ExecuteTime": {
     "end_time": "2024-10-03T12:05:10.588638Z",
     "start_time": "2024-10-03T12:05:10.449112Z"
    }
   },
   "source": [
    "adata = _adata.copy()\n",
    "adata.obs_names_make_unique()\n",
    "\n",
    "# Basic filtering\n",
    "sc.pp.filter_genes(adata, min_cells=3)\n",
    "sc.pp.filter_cells(adata, min_genes=200)\n",
    "\n",
    "adata.raw = adata.copy()\n",
    "\n",
    "# Total-count normlize, logarithmize the data, calculate the gene size factor \n",
    "sc.pp.normalize_per_cell(adata)\n",
    "adata.obs['cs_factor'] = adata.obs.n_counts / np.median(adata.obs.n_counts)\n",
    "sc.pp.log1p(adata)\n",
    "# Calculate the gene size factor\n",
    "adata.var['gs_factor'] = np.max(adata.X, axis=0).T.todense()"
   ],
   "outputs": [
    {
     "name": "stderr",
     "output_type": "stream",
     "text": [
      "/Users/halu/Projects/PhD/PyPrism/venv/lib/python3.12/site-packages/anndata/_core/anndata.py:1818: UserWarning: Observation names are not unique. To make them unique, call `.obs_names_make_unique`.\n",
      "  utils.warn_names_duplicates(\"obs\")\n"
     ]
    }
   ],
   "execution_count": 3
  },
  {
   "cell_type": "code",
   "id": "36183d2fb8dfd12b",
   "metadata": {
    "ExecuteTime": {
     "end_time": "2024-10-03T12:05:12.300327Z",
     "start_time": "2024-10-03T12:05:12.294431Z"
    }
   },
   "source": [
    "adata"
   ],
   "outputs": [
    {
     "data": {
      "text/plain": [
       "AnnData object with n_obs × n_vars = 1000 × 17536\n",
       "    obs: 'orig.ident', 'nCount_RNA', 'nFeature_RNA', 'percent.mito', 'subtype', 'celltype_subset', 'celltype_minor', 'celltype_major', 'n_genes', 'n_counts', 'cs_factor'\n",
       "    var: 'n_cells', 'gs_factor'\n",
       "    uns: 'log1p'"
      ]
     },
     "execution_count": 4,
     "metadata": {},
     "output_type": "execute_result"
    }
   ],
   "execution_count": 4
  },
  {
   "cell_type": "code",
   "id": "71bdf315-072a-4e86-ac46-6dbe415500f2",
   "metadata": {
    "ExecuteTime": {
     "end_time": "2024-10-03T12:05:13.908766Z",
     "start_time": "2024-10-03T12:05:13.899400Z"
    }
   },
   "source": "adata.var",
   "outputs": [
    {
     "data": {
      "text/plain": [
       "               n_cells  gs_factor\n",
       "FO538757.2         116   2.163204\n",
       "AP006222.2          54   2.328790\n",
       "RP4-669L17.10        5   0.329402\n",
       "RP11-206L10.9       31   1.670865\n",
       "LINC00115           12   1.533053\n",
       "...                ...        ...\n",
       "DEFB126              4   0.503022\n",
       "MIR548XHG            3   0.499381\n",
       "MLIP-AS1             3   0.208088\n",
       "CST9                12   0.554809\n",
       "CST9L                4   0.233574\n",
       "\n",
       "[17536 rows x 2 columns]"
      ],
      "text/html": [
       "<div>\n",
       "<style scoped>\n",
       "    .dataframe tbody tr th:only-of-type {\n",
       "        vertical-align: middle;\n",
       "    }\n",
       "\n",
       "    .dataframe tbody tr th {\n",
       "        vertical-align: top;\n",
       "    }\n",
       "\n",
       "    .dataframe thead th {\n",
       "        text-align: right;\n",
       "    }\n",
       "</style>\n",
       "<table border=\"1\" class=\"dataframe\">\n",
       "  <thead>\n",
       "    <tr style=\"text-align: right;\">\n",
       "      <th></th>\n",
       "      <th>n_cells</th>\n",
       "      <th>gs_factor</th>\n",
       "    </tr>\n",
       "  </thead>\n",
       "  <tbody>\n",
       "    <tr>\n",
       "      <th>FO538757.2</th>\n",
       "      <td>116</td>\n",
       "      <td>2.163204</td>\n",
       "    </tr>\n",
       "    <tr>\n",
       "      <th>AP006222.2</th>\n",
       "      <td>54</td>\n",
       "      <td>2.328790</td>\n",
       "    </tr>\n",
       "    <tr>\n",
       "      <th>RP4-669L17.10</th>\n",
       "      <td>5</td>\n",
       "      <td>0.329402</td>\n",
       "    </tr>\n",
       "    <tr>\n",
       "      <th>RP11-206L10.9</th>\n",
       "      <td>31</td>\n",
       "      <td>1.670865</td>\n",
       "    </tr>\n",
       "    <tr>\n",
       "      <th>LINC00115</th>\n",
       "      <td>12</td>\n",
       "      <td>1.533053</td>\n",
       "    </tr>\n",
       "    <tr>\n",
       "      <th>...</th>\n",
       "      <td>...</td>\n",
       "      <td>...</td>\n",
       "    </tr>\n",
       "    <tr>\n",
       "      <th>DEFB126</th>\n",
       "      <td>4</td>\n",
       "      <td>0.503022</td>\n",
       "    </tr>\n",
       "    <tr>\n",
       "      <th>MIR548XHG</th>\n",
       "      <td>3</td>\n",
       "      <td>0.499381</td>\n",
       "    </tr>\n",
       "    <tr>\n",
       "      <th>MLIP-AS1</th>\n",
       "      <td>3</td>\n",
       "      <td>0.208088</td>\n",
       "    </tr>\n",
       "    <tr>\n",
       "      <th>CST9</th>\n",
       "      <td>12</td>\n",
       "      <td>0.554809</td>\n",
       "    </tr>\n",
       "    <tr>\n",
       "      <th>CST9L</th>\n",
       "      <td>4</td>\n",
       "      <td>0.233574</td>\n",
       "    </tr>\n",
       "  </tbody>\n",
       "</table>\n",
       "<p>17536 rows × 2 columns</p>\n",
       "</div>"
      ]
     },
     "execution_count": 5,
     "metadata": {},
     "output_type": "execute_result"
    }
   ],
   "execution_count": 5
  },
  {
   "metadata": {
    "ExecuteTime": {
     "end_time": "2024-10-03T12:05:15.560371Z",
     "start_time": "2024-10-03T12:05:15.002869Z"
    }
   },
   "cell_type": "code",
   "source": [
    "from scbig import run_scbig\n",
    "adata = run_scbig(adata)"
   ],
   "id": "bfb9207028c174d1",
   "outputs": [
    {
     "ename": "FileNotFoundError",
     "evalue": "Cannot find DGL C++ graphbolt library at /Users/halu/Projects/PhD/PyPrism/venv/lib/python3.12/site-packages/dgl/graphbolt/libgraphbolt_pytorch_2.4.1.dylib",
     "output_type": "error",
     "traceback": [
      "\u001B[0;31m---------------------------------------------------------------------------\u001B[0m",
      "\u001B[0;31mFileNotFoundError\u001B[0m                         Traceback (most recent call last)",
      "Cell \u001B[0;32mIn[6], line 1\u001B[0m\n\u001B[0;32m----> 1\u001B[0m \u001B[38;5;28;01mfrom\u001B[39;00m \u001B[38;5;21;01mscbig\u001B[39;00m \u001B[38;5;28;01mimport\u001B[39;00m run_scbig\n\u001B[1;32m      2\u001B[0m adata \u001B[38;5;241m=\u001B[39m run_scbig(adata)\n",
      "File \u001B[0;32m~/Projects/PhD/PyPrism/venv/lib/python3.12/site-packages/scbig/__init__.py:3\u001B[0m\n\u001B[1;32m      1\u001B[0m \u001B[38;5;28;01mimport\u001B[39;00m \u001B[38;5;21;01mimportlib\u001B[39;00m\n\u001B[0;32m----> 3\u001B[0m \u001B[38;5;28;01mfrom\u001B[39;00m \u001B[38;5;21;01m.\u001B[39;00m\u001B[38;5;21;01mdata\u001B[39;00m \u001B[38;5;28;01mimport\u001B[39;00m preprocess\n\u001B[1;32m      4\u001B[0m \u001B[38;5;28;01mfrom\u001B[39;00m \u001B[38;5;21;01m.\u001B[39;00m\u001B[38;5;21;01mrun_scbig\u001B[39;00m \u001B[38;5;28;01mimport\u001B[39;00m run_scbig\n\u001B[1;32m      5\u001B[0m \u001B[38;5;28;01mfrom\u001B[39;00m \u001B[38;5;21;01m.\u001B[39;00m\u001B[38;5;21;01mutils\u001B[39;00m \u001B[38;5;28;01mimport\u001B[39;00m setup_seed, sample, read_data\n",
      "File \u001B[0;32m~/Projects/PhD/PyPrism/venv/lib/python3.12/site-packages/scbig/data/__init__.py:1\u001B[0m\n\u001B[0;32m----> 1\u001B[0m \u001B[38;5;28;01mfrom\u001B[39;00m \u001B[38;5;21;01m.\u001B[39;00m\u001B[38;5;21;01mdata_utils\u001B[39;00m \u001B[38;5;28;01mimport\u001B[39;00m preprocess, make_graph\n\u001B[1;32m      2\u001B[0m \u001B[38;5;28;01mfrom\u001B[39;00m \u001B[38;5;21;01m.\u001B[39;00m\u001B[38;5;21;01mgraph\u001B[39;00m \u001B[38;5;28;01mimport\u001B[39;00m construct_gene_graph\n",
      "File \u001B[0;32m~/Projects/PhD/PyPrism/venv/lib/python3.12/site-packages/scbig/data/data_utils.py:1\u001B[0m\n\u001B[0;32m----> 1\u001B[0m \u001B[38;5;28;01mimport\u001B[39;00m \u001B[38;5;21;01mdgl\u001B[39;00m\n\u001B[1;32m      2\u001B[0m \u001B[38;5;28;01mimport\u001B[39;00m \u001B[38;5;21;01mnumpy\u001B[39;00m \u001B[38;5;28;01mas\u001B[39;00m \u001B[38;5;21;01mnp\u001B[39;00m\n\u001B[1;32m      3\u001B[0m \u001B[38;5;28;01mimport\u001B[39;00m \u001B[38;5;21;01mpandas\u001B[39;00m \u001B[38;5;28;01mas\u001B[39;00m \u001B[38;5;21;01mpd\u001B[39;00m\n",
      "File \u001B[0;32m~/Projects/PhD/PyPrism/venv/lib/python3.12/site-packages/dgl/__init__.py:16\u001B[0m\n\u001B[1;32m     13\u001B[0m \u001B[38;5;28;01mfrom\u001B[39;00m \u001B[38;5;21;01m.\u001B[39;00m\u001B[38;5;21;01mlogging\u001B[39;00m \u001B[38;5;28;01mimport\u001B[39;00m enable_verbose_logging  \u001B[38;5;66;03m# usort: skip\u001B[39;00m\n\u001B[1;32m     14\u001B[0m \u001B[38;5;28;01mfrom\u001B[39;00m \u001B[38;5;21;01m.\u001B[39;00m\u001B[38;5;21;01mbackend\u001B[39;00m \u001B[38;5;28;01mimport\u001B[39;00m backend_name, load_backend  \u001B[38;5;66;03m# usort: skip\u001B[39;00m\n\u001B[0;32m---> 16\u001B[0m \u001B[38;5;28;01mfrom\u001B[39;00m \u001B[38;5;21;01m.\u001B[39;00m \u001B[38;5;28;01mimport\u001B[39;00m (\n\u001B[1;32m     17\u001B[0m     container,\n\u001B[1;32m     18\u001B[0m     cuda,\n\u001B[1;32m     19\u001B[0m     dataloading,\n\u001B[1;32m     20\u001B[0m     function,\n\u001B[1;32m     21\u001B[0m     ops,\n\u001B[1;32m     22\u001B[0m     random,\n\u001B[1;32m     23\u001B[0m     sampling,\n\u001B[1;32m     24\u001B[0m     storages,\n\u001B[1;32m     25\u001B[0m )\n\u001B[1;32m     26\u001B[0m \u001B[38;5;28;01mfrom\u001B[39;00m \u001B[38;5;21;01m.\u001B[39;00m\u001B[38;5;21;01m_ffi\u001B[39;00m\u001B[38;5;21;01m.\u001B[39;00m\u001B[38;5;21;01mbase\u001B[39;00m \u001B[38;5;28;01mimport\u001B[39;00m __version__, DGLError\n\u001B[1;32m     27\u001B[0m \u001B[38;5;28;01mfrom\u001B[39;00m \u001B[38;5;21;01m.\u001B[39;00m\u001B[38;5;21;01m_ffi\u001B[39;00m\u001B[38;5;21;01m.\u001B[39;00m\u001B[38;5;21;01mfunction\u001B[39;00m \u001B[38;5;28;01mimport\u001B[39;00m (\n\u001B[1;32m     28\u001B[0m     extract_ext_funcs,\n\u001B[1;32m     29\u001B[0m     get_global_func,\n\u001B[1;32m     30\u001B[0m     list_global_func_names,\n\u001B[1;32m     31\u001B[0m     register_func,\n\u001B[1;32m     32\u001B[0m )\n",
      "File \u001B[0;32m~/Projects/PhD/PyPrism/venv/lib/python3.12/site-packages/dgl/dataloading/__init__.py:13\u001B[0m\n\u001B[1;32m     11\u001B[0m \u001B[38;5;28;01mif\u001B[39;00m F\u001B[38;5;241m.\u001B[39mget_preferred_backend() \u001B[38;5;241m==\u001B[39m \u001B[38;5;124m\"\u001B[39m\u001B[38;5;124mpytorch\u001B[39m\u001B[38;5;124m\"\u001B[39m:\n\u001B[1;32m     12\u001B[0m     \u001B[38;5;28;01mfrom\u001B[39;00m \u001B[38;5;21;01m.\u001B[39;00m\u001B[38;5;21;01mspot_target\u001B[39;00m \u001B[38;5;28;01mimport\u001B[39;00m \u001B[38;5;241m*\u001B[39m\n\u001B[0;32m---> 13\u001B[0m     \u001B[38;5;28;01mfrom\u001B[39;00m \u001B[38;5;21;01m.\u001B[39;00m\u001B[38;5;21;01mdataloader\u001B[39;00m \u001B[38;5;28;01mimport\u001B[39;00m \u001B[38;5;241m*\u001B[39m\n\u001B[1;32m     14\u001B[0m     \u001B[38;5;28;01mfrom\u001B[39;00m \u001B[38;5;21;01m.\u001B[39;00m\u001B[38;5;21;01mdist_dataloader\u001B[39;00m \u001B[38;5;28;01mimport\u001B[39;00m \u001B[38;5;241m*\u001B[39m\n",
      "File \u001B[0;32m~/Projects/PhD/PyPrism/venv/lib/python3.12/site-packages/dgl/dataloading/dataloader.py:27\u001B[0m\n\u001B[1;32m     25\u001B[0m \u001B[38;5;28;01mfrom\u001B[39;00m \u001B[38;5;21;01m.\u001B[39;00m\u001B[38;5;21;01m.\u001B[39;00m\u001B[38;5;21;01mbatch\u001B[39;00m \u001B[38;5;28;01mimport\u001B[39;00m batch \u001B[38;5;28;01mas\u001B[39;00m batch_graphs\n\u001B[1;32m     26\u001B[0m \u001B[38;5;28;01mfrom\u001B[39;00m \u001B[38;5;21;01m.\u001B[39;00m\u001B[38;5;21;01m.\u001B[39;00m\u001B[38;5;21;01mcuda\u001B[39;00m \u001B[38;5;28;01mimport\u001B[39;00m GPUCache\n\u001B[0;32m---> 27\u001B[0m \u001B[38;5;28;01mfrom\u001B[39;00m \u001B[38;5;21;01m.\u001B[39;00m\u001B[38;5;21;01m.\u001B[39;00m\u001B[38;5;21;01mdistributed\u001B[39;00m \u001B[38;5;28;01mimport\u001B[39;00m DistGraph\n\u001B[1;32m     28\u001B[0m \u001B[38;5;28;01mfrom\u001B[39;00m \u001B[38;5;21;01m.\u001B[39;00m\u001B[38;5;21;01m.\u001B[39;00m\u001B[38;5;21;01mframe\u001B[39;00m \u001B[38;5;28;01mimport\u001B[39;00m LazyFeature\n\u001B[1;32m     29\u001B[0m \u001B[38;5;28;01mfrom\u001B[39;00m \u001B[38;5;21;01m.\u001B[39;00m\u001B[38;5;21;01m.\u001B[39;00m\u001B[38;5;21;01mheterograph\u001B[39;00m \u001B[38;5;28;01mimport\u001B[39;00m DGLGraph\n",
      "File \u001B[0;32m~/Projects/PhD/PyPrism/venv/lib/python3.12/site-packages/dgl/distributed/__init__.py:5\u001B[0m\n\u001B[1;32m      3\u001B[0m \u001B[38;5;28;01mfrom\u001B[39;00m \u001B[38;5;21;01m.\u001B[39;00m\u001B[38;5;21;01mdist_context\u001B[39;00m \u001B[38;5;28;01mimport\u001B[39;00m exit_client, initialize\n\u001B[1;32m      4\u001B[0m \u001B[38;5;28;01mfrom\u001B[39;00m \u001B[38;5;21;01m.\u001B[39;00m\u001B[38;5;21;01mdist_dataloader\u001B[39;00m \u001B[38;5;28;01mimport\u001B[39;00m DistDataLoader\n\u001B[0;32m----> 5\u001B[0m \u001B[38;5;28;01mfrom\u001B[39;00m \u001B[38;5;21;01m.\u001B[39;00m\u001B[38;5;21;01mdist_graph\u001B[39;00m \u001B[38;5;28;01mimport\u001B[39;00m DistGraph, DistGraphServer, edge_split, node_split\n\u001B[1;32m      6\u001B[0m \u001B[38;5;28;01mfrom\u001B[39;00m \u001B[38;5;21;01m.\u001B[39;00m\u001B[38;5;21;01mdist_tensor\u001B[39;00m \u001B[38;5;28;01mimport\u001B[39;00m DistTensor\n\u001B[1;32m      7\u001B[0m \u001B[38;5;28;01mfrom\u001B[39;00m \u001B[38;5;21;01m.\u001B[39;00m\u001B[38;5;21;01mgraph_partition_book\u001B[39;00m \u001B[38;5;28;01mimport\u001B[39;00m GraphPartitionBook, PartitionPolicy\n",
      "File \u001B[0;32m~/Projects/PhD/PyPrism/venv/lib/python3.12/site-packages/dgl/distributed/dist_graph.py:11\u001B[0m\n\u001B[1;32m      7\u001B[0m \u001B[38;5;28;01mfrom\u001B[39;00m \u001B[38;5;21;01mcollections\u001B[39;00m\u001B[38;5;21;01m.\u001B[39;00m\u001B[38;5;21;01mabc\u001B[39;00m \u001B[38;5;28;01mimport\u001B[39;00m MutableMapping\n\u001B[1;32m      9\u001B[0m \u001B[38;5;28;01mimport\u001B[39;00m \u001B[38;5;21;01mnumpy\u001B[39;00m \u001B[38;5;28;01mas\u001B[39;00m \u001B[38;5;21;01mnp\u001B[39;00m\n\u001B[0;32m---> 11\u001B[0m \u001B[38;5;28;01mfrom\u001B[39;00m \u001B[38;5;21;01m.\u001B[39;00m\u001B[38;5;21;01m.\u001B[39;00m \u001B[38;5;28;01mimport\u001B[39;00m backend \u001B[38;5;28;01mas\u001B[39;00m F, graphbolt \u001B[38;5;28;01mas\u001B[39;00m gb, heterograph_index\n\u001B[1;32m     12\u001B[0m \u001B[38;5;28;01mfrom\u001B[39;00m \u001B[38;5;21;01m.\u001B[39;00m\u001B[38;5;21;01m.\u001B[39;00m\u001B[38;5;21;01m_ffi\u001B[39;00m\u001B[38;5;21;01m.\u001B[39;00m\u001B[38;5;21;01mndarray\u001B[39;00m \u001B[38;5;28;01mimport\u001B[39;00m empty_shared_mem\n\u001B[1;32m     13\u001B[0m \u001B[38;5;28;01mfrom\u001B[39;00m \u001B[38;5;21;01m.\u001B[39;00m\u001B[38;5;21;01m.\u001B[39;00m\u001B[38;5;21;01mbase\u001B[39;00m \u001B[38;5;28;01mimport\u001B[39;00m ALL, DGLError, EID, ETYPE, is_all, NID\n",
      "File \u001B[0;32m~/Projects/PhD/PyPrism/venv/lib/python3.12/site-packages/dgl/graphbolt/__init__.py:36\u001B[0m\n\u001B[1;32m     32\u001B[0m     \u001B[38;5;28;01mexcept\u001B[39;00m \u001B[38;5;167;01mException\u001B[39;00m:  \u001B[38;5;66;03m# pylint: disable=W0703\u001B[39;00m\n\u001B[1;32m     33\u001B[0m         \u001B[38;5;28;01mraise\u001B[39;00m \u001B[38;5;167;01mImportError\u001B[39;00m(\u001B[38;5;124m\"\u001B[39m\u001B[38;5;124mCannot load Graphbolt C++ library\u001B[39m\u001B[38;5;124m\"\u001B[39m)\n\u001B[0;32m---> 36\u001B[0m \u001B[43mload_graphbolt\u001B[49m\u001B[43m(\u001B[49m\u001B[43m)\u001B[49m\n\u001B[1;32m     38\u001B[0m \u001B[38;5;66;03m# pylint: disable=wrong-import-position\u001B[39;00m\n\u001B[1;32m     39\u001B[0m \u001B[38;5;28;01mfrom\u001B[39;00m \u001B[38;5;21;01m.\u001B[39;00m\u001B[38;5;21;01mbase\u001B[39;00m \u001B[38;5;28;01mimport\u001B[39;00m \u001B[38;5;241m*\u001B[39m\n",
      "File \u001B[0;32m~/Projects/PhD/PyPrism/venv/lib/python3.12/site-packages/dgl/graphbolt/__init__.py:26\u001B[0m, in \u001B[0;36mload_graphbolt\u001B[0;34m()\u001B[0m\n\u001B[1;32m     24\u001B[0m path \u001B[38;5;241m=\u001B[39m os\u001B[38;5;241m.\u001B[39mpath\u001B[38;5;241m.\u001B[39mjoin(dirname, \u001B[38;5;124m\"\u001B[39m\u001B[38;5;124mgraphbolt\u001B[39m\u001B[38;5;124m\"\u001B[39m, basename)\n\u001B[1;32m     25\u001B[0m \u001B[38;5;28;01mif\u001B[39;00m \u001B[38;5;129;01mnot\u001B[39;00m os\u001B[38;5;241m.\u001B[39mpath\u001B[38;5;241m.\u001B[39mexists(path):\n\u001B[0;32m---> 26\u001B[0m     \u001B[38;5;28;01mraise\u001B[39;00m \u001B[38;5;167;01mFileNotFoundError\u001B[39;00m(\n\u001B[1;32m     27\u001B[0m         \u001B[38;5;124mf\u001B[39m\u001B[38;5;124m\"\u001B[39m\u001B[38;5;124mCannot find DGL C++ graphbolt library at \u001B[39m\u001B[38;5;132;01m{\u001B[39;00mpath\u001B[38;5;132;01m}\u001B[39;00m\u001B[38;5;124m\"\u001B[39m\n\u001B[1;32m     28\u001B[0m     )\n\u001B[1;32m     30\u001B[0m \u001B[38;5;28;01mtry\u001B[39;00m:\n\u001B[1;32m     31\u001B[0m     torch\u001B[38;5;241m.\u001B[39mclasses\u001B[38;5;241m.\u001B[39mload_library(path)\n",
      "\u001B[0;31mFileNotFoundError\u001B[0m: Cannot find DGL C++ graphbolt library at /Users/halu/Projects/PhD/PyPrism/venv/lib/python3.12/site-packages/dgl/graphbolt/libgraphbolt_pytorch_2.4.1.dylib"
     ]
    }
   ],
   "execution_count": 6
  },
  {
   "metadata": {
    "ExecuteTime": {
     "end_time": "2024-10-03T12:01:06.482083Z",
     "start_time": "2024-10-03T12:01:06.479415Z"
    }
   },
   "cell_type": "code",
   "source": "adata",
   "id": "aea15c53a3e56b09",
   "outputs": [
    {
     "data": {
      "text/plain": [
       "AnnData object with n_obs × n_vars = 1000 × 17536\n",
       "    obs: 'orig.ident', 'nCount_RNA', 'nFeature_RNA', 'percent.mito', 'subtype', 'celltype_subset', 'celltype_minor', 'celltype_major', 'n_genes', 'n_counts', 'cs_factor'\n",
       "    var: 'n_cells', 'gs_factor'\n",
       "    uns: 'log1p'"
      ]
     },
     "execution_count": 8,
     "metadata": {},
     "output_type": "execute_result"
    }
   ],
   "execution_count": 8
  },
  {
   "metadata": {},
   "cell_type": "code",
   "outputs": [],
   "execution_count": null,
   "source": "",
   "id": "422b7ea8b62cf842"
  }
 ],
 "metadata": {
  "kernelspec": {
   "display_name": "Python 3 (ipykernel)",
   "language": "python",
   "name": "python3"
  },
  "language_info": {
   "codemirror_mode": {
    "name": "ipython",
    "version": 3
   },
   "file_extension": ".py",
   "mimetype": "text/x-python",
   "name": "python",
   "nbconvert_exporter": "python",
   "pygments_lexer": "ipython3",
   "version": "3.12.0"
  }
 },
 "nbformat": 4,
 "nbformat_minor": 5
}
